{
  "cells": [
    {
      "cell_type": "markdown",
      "metadata": {
        "id": "view-in-github",
        "colab_type": "text"
      },
      "source": [
        "<a href=\"https://colab.research.google.com/github/Favour-Yahdii/Projects/blob/main/docs/docs/how_to/summarize_refine.ipynb\" target=\"_parent\"><img src=\"https://colab.research.google.com/assets/colab-badge.svg\" alt=\"Open In Colab\"/></a>"
      ]
    },
    {
      "cell_type": "markdown",
      "id": "c47f5b2f-e14c-43e7-a0ab-d71562636624",
      "metadata": {
        "id": "c47f5b2f-e14c-43e7-a0ab-d71562636624"
      },
      "source": [
        "---\n",
        "sidebar_position: 3\n",
        "keywords: [summarize, summarization, refine]\n",
        "---"
      ]
    },
    {
      "cell_type": "markdown",
      "id": "682a4f53-27db-43ef-a909-dd9ded76051b",
      "metadata": {
        "id": "682a4f53-27db-43ef-a909-dd9ded76051b"
      },
      "source": [
        "# How to summarize text through iterative refinement\n",
        "\n",
        "LLMs can summarize and otherwise distill desired information from text, including large volumes of text. In many cases, especially when the amount of text is large compared to the size of the model's context window, it can be helpful (or necessary) to break up the summarization task into smaller components.\n",
        "\n",
        "Iterative refinement represents one strategy for summarizing long texts. The strategy is as follows:\n",
        "\n",
        "- Split a text into smaller documents;\n",
        "- Summarize the first document;\n",
        "- Refine or update the result based on the next document;\n",
        "- Repeat through the sequence of documents until finished.\n",
        "\n",
        "Note that this strategy is not parallelized. It is especially effective when understanding of a sub-document depends on prior context-- for instance, when summarizing a novel or body of text with an inherent sequence.\n",
        "\n",
        "[LangGraph](https://langchain-ai.github.io/langgraph/), built on top of `langchain-core`, is well-suited to this problem:\n",
        "\n",
        "- LangGraph allows for individual steps (such as successive summarizations) to be streamed, allowing for greater control of execution;\n",
        "- LangGraph's [checkpointing](https://langchain-ai.github.io/langgraph/how-tos/persistence/) supports error recovery, extending with human-in-the-loop workflows, and easier incorporation into conversational applications.\n",
        "- Because it is assembled from modular components, it is also simple to extend or modify (e.g., to incorporate [tool calling](/docs/concepts/tool_calling) or other behavior).\n",
        "\n",
        "Below, we demonstrate how to summarize text via iterative refinement."
      ]
    },
    {
      "cell_type": "markdown",
      "id": "4aa52e84-d1b5-4b33-b4c4-541156686ef3",
      "metadata": {
        "id": "4aa52e84-d1b5-4b33-b4c4-541156686ef3"
      },
      "source": [
        "## Load chat model\n",
        "\n",
        "Let's first load a chat model:\n",
        "\n",
        "import ChatModelTabs from \"@theme/ChatModelTabs\";\n",
        "\n",
        "<ChatModelTabs\n",
        "  customVarName=\"llm\"\n",
        "/>\n"
      ]
    },
    {
      "cell_type": "code",
      "source": [
        "!pip install -qU langchain_core langchain_huggingface langgraph"
      ],
      "metadata": {
        "id": "pNsCLq9Z813L",
        "outputId": "ca93062c-6fe3-4f86-d249-3d103a09c532",
        "colab": {
          "base_uri": "https://localhost:8080/"
        }
      },
      "id": "pNsCLq9Z813L",
      "execution_count": 2,
      "outputs": [
        {
          "output_type": "stream",
          "name": "stdout",
          "text": [
            "\u001b[2K     \u001b[90m━━━━━━━━━━━━━━━━━━━━━━━━━━━━━━━━━━━━━━━━\u001b[0m \u001b[32m43.7/43.7 kB\u001b[0m \u001b[31m5.1 MB/s\u001b[0m eta \u001b[36m0:00:00\u001b[0m\n",
            "\u001b[2K   \u001b[90m━━━━━━━━━━━━━━━━━━━━━━━━━━━━━━━━━━━━━━━━\u001b[0m \u001b[32m440.2/440.2 kB\u001b[0m \u001b[31m38.3 MB/s\u001b[0m eta \u001b[36m0:00:00\u001b[0m\n",
            "\u001b[2K   \u001b[90m━━━━━━━━━━━━━━━━━━━━━━━━━━━━━━━━━━━━━━━━\u001b[0m \u001b[32m143.7/143.7 kB\u001b[0m \u001b[31m20.2 MB/s\u001b[0m eta \u001b[36m0:00:00\u001b[0m\n",
            "\u001b[2K   \u001b[90m━━━━━━━━━━━━━━━━━━━━━━━━━━━━━━━━━━━━━━━━\u001b[0m \u001b[32m43.8/43.8 kB\u001b[0m \u001b[31m5.6 MB/s\u001b[0m eta \u001b[36m0:00:00\u001b[0m\n",
            "\u001b[2K   \u001b[90m━━━━━━━━━━━━━━━━━━━━━━━━━━━━━━━━━━━━━━━━\u001b[0m \u001b[32m50.1/50.1 kB\u001b[0m \u001b[31m6.5 MB/s\u001b[0m eta \u001b[36m0:00:00\u001b[0m\n",
            "\u001b[2K   \u001b[90m━━━━━━━━━━━━━━━━━━━━━━━━━━━━━━━━━━━━━━━━\u001b[0m \u001b[32m216.5/216.5 kB\u001b[0m \u001b[31m26.7 MB/s\u001b[0m eta \u001b[36m0:00:00\u001b[0m\n",
            "\u001b[?25h"
          ]
        }
      ]
    },
    {
      "cell_type": "code",
      "source": [
        "from huggingface_hub import notebook_login\n",
        "\n",
        "notebook_login()"
      ],
      "metadata": {
        "id": "MENGauB9_hO3",
        "outputId": "41870199-399d-4cd6-8498-e062e259116d",
        "colab": {
          "base_uri": "https://localhost:8080/",
          "height": 17,
          "referenced_widgets": [
            "baed2e3b29194f08b83f560af6e0f606",
            "864bdcc6fbd5432eab80b2ee776c6c7f",
            "874bbf33acc04f779ec0a4fe78e43a34",
            "32bbac8387b94c538777c32a12fa4d8b",
            "7e7d73707e1348dfa165aac49e96c8e5",
            "81af2467c26746908b535123f0c22521",
            "83704786c2ee4a83900fe66f73e053fe",
            "f280b12f37d54f0ea8165c135fee301c",
            "50d04ee580c046b191a4eaebf255216b",
            "aba08c12b4234aba97d79c52ba96ea8a",
            "26ec7fe8d4f043e4b86dc3be57d031d9",
            "3cc9939add9a4b5ca30a46aef722bbd5",
            "c3ca7f827aa549c99568275f9a80ca1b",
            "3d61b8b07a62412a9234dd67fe77cbbb",
            "fc1e2169f93d49f98e6ed00c91e037fd",
            "5878e9fbc345403eb65d180d6c448221",
            "b33cacab46814ce4aa8658ab6fc52f8b",
            "e43dc1d9bf6044289d0ea86eb7a52acd",
            "4b8d94ef6a2c44379fb3e84e241042a7",
            "53be879633f34e339a9ea9d17d996b1d"
          ]
        }
      },
      "id": "MENGauB9_hO3",
      "execution_count": 3,
      "outputs": [
        {
          "output_type": "display_data",
          "data": {
            "text/plain": [
              "VBox(children=(HTML(value='<center> <img\\nsrc=https://huggingface.co/front/assets/huggingface_logo-noborder.sv…"
            ],
            "application/vnd.jupyter.widget-view+json": {
              "version_major": 2,
              "version_minor": 0,
              "model_id": "baed2e3b29194f08b83f560af6e0f606"
            }
          },
          "metadata": {}
        }
      ]
    },
    {
      "cell_type": "code",
      "execution_count": 4,
      "id": "e5f426fc-cea6-4351-8931-1e422d3c8b69",
      "metadata": {
        "id": "e5f426fc-cea6-4351-8931-1e422d3c8b69"
      },
      "outputs": [],
      "source": [
        "# | output: false\n",
        "# | echo: false\n",
        "\n",
        "from langchain_huggingface import HuggingFaceEndpoint, ChatHuggingFace\n",
        "\n",
        "llm = HuggingFaceEndpoint(\n",
        "    repo_id=\"meta-llama/Llama-3.1-8B-Instruct\",\n",
        "    task=\"text-generation\",\n",
        "    max_new_tokens=512,\n",
        "    do_sample=False,\n",
        "    repetition_penalty=1.03,\n",
        ")\n",
        "\n",
        "chat = ChatHuggingFace(llm=llm, verbose=True)"
      ]
    },
    {
      "cell_type": "markdown",
      "id": "b137fe82-0a53-4910-b53e-b87a297f329d",
      "metadata": {
        "id": "b137fe82-0a53-4910-b53e-b87a297f329d"
      },
      "source": [
        "## Load documents"
      ]
    },
    {
      "cell_type": "markdown",
      "id": "a81dc91d-ae72-4996-b809-d4a9050e815e",
      "metadata": {
        "id": "a81dc91d-ae72-4996-b809-d4a9050e815e"
      },
      "source": [
        "Next, we need some documents to summarize. Below, we generate some toy documents for illustrative purposes. See the document loader [how-to guides](/docs/how_to/#document-loaders) and [integration pages](/docs/integrations/document_loaders/) for additional sources of data. The [summarization tutorial](/docs/tutorials/summarization) also includes an example summarizing a blog post."
      ]
    },
    {
      "cell_type": "code",
      "execution_count": 5,
      "id": "27c8fed0-b2d7-4549-a086-f5ee657efc41",
      "metadata": {
        "id": "27c8fed0-b2d7-4549-a086-f5ee657efc41"
      },
      "outputs": [],
      "source": [
        "from langchain_core.documents import Document\n",
        "\n",
        "documents = [\n",
        "    Document(page_content=\"Apples are red\", metadata={\"title\": \"apple_book\"}),\n",
        "    Document(page_content=\"Blueberries are blue\", metadata={\"title\": \"blueberry_book\"}),\n",
        "    Document(page_content=\"Bananas are yelow\", metadata={\"title\": \"banana_book\"}),\n",
        "]"
      ]
    },
    {
      "cell_type": "markdown",
      "id": "84216044-6f1e-4b90-b4fa-29ec305abf51",
      "metadata": {
        "id": "84216044-6f1e-4b90-b4fa-29ec305abf51"
      },
      "source": [
        "## Create graph\n",
        "\n",
        "Below we show a LangGraph implementation of this process:\n",
        "\n",
        "- We generate a simple chain for the initial summary that plucks out the first document, formats it into a prompt and runs inference with our LLM.\n",
        "- We generate a second `refine_summary_chain` that operates on each successive document, refining the initial summary.\n",
        "\n",
        "We will need to install `langgraph`:"
      ]
    },
    {
      "cell_type": "code",
      "execution_count": null,
      "id": "bf7acdb7-19ca-43ba-98f4-91f5b804da21",
      "metadata": {
        "id": "bf7acdb7-19ca-43ba-98f4-91f5b804da21"
      },
      "outputs": [],
      "source": [
        "pip install -qU langgraph"
      ]
    },
    {
      "cell_type": "code",
      "execution_count": 6,
      "id": "669afa40-2708-4fa1-841e-c74a67bd9175",
      "metadata": {
        "id": "669afa40-2708-4fa1-841e-c74a67bd9175"
      },
      "outputs": [],
      "source": [
        "import operator\n",
        "from typing import List, Literal, TypedDict\n",
        "\n",
        "from langchain_core.output_parsers import StrOutputParser\n",
        "from langchain_core.prompts import ChatPromptTemplate\n",
        "from langchain_core.runnables import RunnableConfig\n",
        "from langgraph.constants import Send\n",
        "from langgraph.graph import END, START, StateGraph\n",
        "\n",
        "# Initial summary\n",
        "summarize_prompt = ChatPromptTemplate(\n",
        "    [\n",
        "        (\"human\", \"Write a concise summary of the following: {context}\"),\n",
        "    ]\n",
        ")\n",
        "initial_summary_chain = summarize_prompt | chat | StrOutputParser()\n",
        "\n",
        "# Refining the summary with new docs\n",
        "refine_template = \"\"\"\n",
        "Produce a final summary.\n",
        "\n",
        "Existing summary up to this point:\n",
        "{existing_answer}\n",
        "\n",
        "New context:\n",
        "------------\n",
        "{context}\n",
        "------------\n",
        "\n",
        "Given the new context, refine the original summary.\n",
        "\"\"\"\n",
        "refine_prompt = ChatPromptTemplate([(\"human\", refine_template)])\n",
        "\n",
        "refine_summary_chain = refine_prompt | chat | StrOutputParser()\n",
        "\n",
        "\n",
        "# We will define the state of the graph to hold the document\n",
        "# contents and summary. We also include an index to keep track\n",
        "# of our position in the sequence of documents.\n",
        "class State(TypedDict):\n",
        "    contents: List[str]\n",
        "    index: int\n",
        "    summary: str\n",
        "\n",
        "\n",
        "# We define functions for each node, including a node that generates\n",
        "# the initial summary:\n",
        "async def generate_initial_summary(state: State, config: RunnableConfig):\n",
        "    summary = await initial_summary_chain.ainvoke(\n",
        "        state[\"contents\"][0],\n",
        "        config,\n",
        "    )\n",
        "    return {\"summary\": summary, \"index\": 1}\n",
        "\n",
        "\n",
        "# And a node that refines the summary based on the next document\n",
        "async def refine_summary(state: State, config: RunnableConfig):\n",
        "    content = state[\"contents\"][state[\"index\"]]\n",
        "    summary = await refine_summary_chain.ainvoke(\n",
        "        {\"existing_answer\": state[\"summary\"], \"context\": content},\n",
        "        config,\n",
        "    )\n",
        "\n",
        "    return {\"summary\": summary, \"index\": state[\"index\"] + 1}\n",
        "\n",
        "\n",
        "# Here we implement logic to either exit the application or refine\n",
        "# the summary.\n",
        "def should_refine(state: State) -> Literal[\"refine_summary\", END]:\n",
        "    if state[\"index\"] >= len(state[\"contents\"]):\n",
        "        return END\n",
        "    else:\n",
        "        return \"refine_summary\"\n",
        "\n",
        "\n",
        "graph = StateGraph(State)\n",
        "graph.add_node(\"generate_initial_summary\", generate_initial_summary)\n",
        "graph.add_node(\"refine_summary\", refine_summary)\n",
        "\n",
        "graph.add_edge(START, \"generate_initial_summary\")\n",
        "graph.add_conditional_edges(\"generate_initial_summary\", should_refine)\n",
        "graph.add_conditional_edges(\"refine_summary\", should_refine)\n",
        "app = graph.compile()"
      ]
    },
    {
      "cell_type": "markdown",
      "id": "cdc11401-8640-4cf8-a713-4031df690cf7",
      "metadata": {
        "id": "cdc11401-8640-4cf8-a713-4031df690cf7"
      },
      "source": [
        "LangGraph allows the graph structure to be plotted to help visualize its function:"
      ]
    },
    {
      "cell_type": "code",
      "execution_count": 6,
      "id": "21711ff5-4e06-4843-9109-e7d89e679449",
      "metadata": {
        "id": "21711ff5-4e06-4843-9109-e7d89e679449",
        "outputId": "3ff805f7-6bf2-4f29-e923-ddc2a004ef04",
        "colab": {
          "base_uri": "https://localhost:8080/",
          "height": 400
        }
      },
      "outputs": [
        {
          "output_type": "execute_result",
          "data": {
            "image/png": "[encoded data removed]",
            "text/plain": [
              "<IPython.core.display.Image object>"
            ]
          },
          "metadata": {},
          "execution_count": 6
        }
      ],
      "source": [
        "from IPython.display import Image\n",
        "\n",
        "Image(app.get_graph().draw_mermaid_png())"
      ]
    },
    {
      "cell_type": "markdown",
      "id": "74f3e276-f003-4112-ba14-c6952076c4f8",
      "metadata": {
        "id": "74f3e276-f003-4112-ba14-c6952076c4f8"
      },
      "source": [
        "## Invoke graph\n",
        "\n",
        "We can step through the execution as follows, printing out the summary as it is refined:"
      ]
    },
    {
      "cell_type": "code",
      "execution_count": 7,
      "id": "0701bb7d-fbc6-497e-a577-25d56e6e43c6",
      "metadata": {
        "id": "0701bb7d-fbc6-497e-a577-25d56e6e43c6",
        "outputId": "3ca00197-dd23-47a5-878b-65340c4eac77",
        "colab": {
          "base_uri": "https://localhost:8080/"
        }
      },
      "outputs": [
        {
          "output_type": "stream",
          "name": "stdout",
          "text": [
            "The statement \"Apples are red\" is a generalization that may not be universally true for all apple varieties. While many apples are indeed red, some may be green, yellow, or have a combination of colors.\n",
            "The statement \"Apples are red\" is a generalization that may not be universally true for all apple varieties. While many apples are indeed red, some may be green, yellow, or have a combination of colors. Similarly, the statement \"Blueberries are blue\" is also an incomplete generalization, as blueberries are typically small, round, and a deep purple color, not blue. This highlights the importance of considering specific characteristics and exceptions when making general statements about various fruits and their attributes.\n",
            "The statements \"Apples are red\" and \"Bananas are yellow\" are both generalizations that may not be universally true for all fruit varieties. While many apples are indeed red and bananas are typically yellow, some apples may be green, yellow, or have a combination of colors, and some bananas may be red or have a reddish tint. \n",
            "\n",
            "Similarly, the statements \"Blueberries are blue\" and \"Bananas are yellow\" are also incomplete generalizations, as blueberries are typically small, round, and a deep purple color, not blue, and bananas may exhibit color variations. This highlights the importance of considering specific characteristics, exceptions, and variations when making general statements about various fruits and their attributes.\n"
          ]
        }
      ],
      "source": [
        "async for step in app.astream(\n",
        "    {\"contents\": [doc.page_content for doc in documents]},\n",
        "    stream_mode=\"values\",\n",
        "):\n",
        "    if summary := step.get(\"summary\"):\n",
        "        print(summary)"
      ]
    },
    {
      "cell_type": "markdown",
      "id": "49147724-de8b-44fd-bf13-5ef3432c7c6b",
      "metadata": {
        "id": "49147724-de8b-44fd-bf13-5ef3432c7c6b"
      },
      "source": [
        "The final `step` contains the summary as synthesized from the entire set of documents."
      ]
    },
    {
      "cell_type": "code",
      "source": [
        "import json\n",
        "\n",
        "# Assume you already defined:\n",
        "#   - initial_summary_chain\n",
        "#   - refine_summary_chain\n",
        "#   - documents (list of Document objects)\n",
        "\n",
        "async def generate_final_summary_and_save(documents):\n",
        "    # Step 1: Generate initial summary\n",
        "    initial_summary = await initial_summary_chain.ainvoke(\n",
        "        documents[0].page_content\n",
        "    )\n",
        "\n",
        "    current_summary = initial_summary\n",
        "\n",
        "    # Step 2: Refine summary with remaining documents\n",
        "    for doc in documents[1:]:\n",
        "        current_summary = await refine_summary_chain.ainvoke(\n",
        "            {\n",
        "                \"existing_answer\": current_summary,\n",
        "                \"context\": doc.page_content\n",
        "            }\n",
        "        )\n",
        "\n",
        "    # Step 3: Save to JSON\n",
        "    with open(\"/content/final_summary.json\", \"w\") as f:\n",
        "        json.dump({\"final_summary\": current_summary}, f)\n",
        "\n",
        "    print(\"Final summary saved to final_summary.json\")\n",
        "\n",
        "# Then you can run:\n",
        "await generate_final_summary_and_save(documents)\n"
      ],
      "metadata": {
        "id": "78aC4QJgCa8K",
        "outputId": "138cdf82-c24c-40ee-b5a7-402eecdb5463",
        "colab": {
          "base_uri": "https://localhost:8080/"
        }
      },
      "id": "78aC4QJgCa8K",
      "execution_count": 7,
      "outputs": [
        {
          "output_type": "stream",
          "name": "stdout",
          "text": [
            "Final summary saved to final_summary.json\n"
          ]
        }
      ]
    },
    {
      "cell_type": "markdown",
      "id": "f15c225a-db1d-48cf-b135-f588e7d615e6",
      "metadata": {
        "id": "f15c225a-db1d-48cf-b135-f588e7d615e6"
      },
      "source": [
        "## Next steps\n",
        "\n",
        "Check out the summarization [how-to guides](/docs/how_to/#summarization) for additional summarization strategies, including those designed for larger volumes of text.\n",
        "\n",
        "See [this tutorial](/docs/tutorials/summarization) for more detail on summarization.\n",
        "\n",
        "See also the [LangGraph documentation](https://langchain-ai.github.io/langgraph/) for detail on building with LangGraph."
      ]
    }
  ],
  "metadata": {
    "kernelspec": {
      "display_name": "Python 3",
      "name": "python3"
    },
    "language_info": {
      "codemirror_mode": {
        "name": "ipython",
        "version": 3
      },
      "file_extension": ".py",
      "mimetype": "text/x-python",
      "name": "python",
      "nbconvert_exporter": "python",
      "pygments_lexer": "ipython3",
      "version": "3.10.4"
    },
    "colab": {
      "provenance": [],
      "gpuType": "L4",
      "include_colab_link": true
    },
    "accelerator": "GPU",
    "widgets": {
      "application/vnd.jupyter.widget-state+json": {
        "baed2e3b29194f08b83f560af6e0f606": {
          "model_module": "@jupyter-widgets/controls",
          "model_name": "VBoxModel",
          "model_module_version": "1.5.0",
          "state": {
            "_dom_classes": [],
            "_model_module": "@jupyter-widgets/controls",
            "_model_module_version": "1.5.0",
            "_model_name": "VBoxModel",
            "_view_count": null,
            "_view_module": "@jupyter-widgets/controls",
            "_view_module_version": "1.5.0",
            "_view_name": "VBoxView",
            "box_style": "",
            "children": [],
            "layout": "IPY_MODEL_83704786c2ee4a83900fe66f73e053fe"
          }
        },
        "864bdcc6fbd5432eab80b2ee776c6c7f": {
          "model_module": "@jupyter-widgets/controls",
          "model_name": "HTMLModel",
          "model_module_version": "1.5.0",
          "state": {
            "_dom_classes": [],
            "_model_module": "@jupyter-widgets/controls",
            "_model_module_version": "1.5.0",
            "_model_name": "HTMLModel",
            "_view_count": null,
            "_view_module": "@jupyter-widgets/controls",
            "_view_module_version": "1.5.0",
            "_view_name": "HTMLView",
            "description": "",
            "description_tooltip": null,
            "layout": "IPY_MODEL_f280b12f37d54f0ea8165c135fee301c",
            "placeholder": "​",
            "style": "IPY_MODEL_50d04ee580c046b191a4eaebf255216b",
            "value": "<center> <img\nsrc=https://huggingface.co/front/assets/huggingface_logo-noborder.svg\nalt='Hugging Face'> <br> Copy a token from <a\nhref=\"https://huggingface.co/settings/tokens\" target=\"_blank\">your Hugging Face\ntokens page</a> and paste it below. <br> Immediately click login after copying\nyour token or it might be stored in plain text in this notebook file. </center>"
          }
        },
        "874bbf33acc04f779ec0a4fe78e43a34": {
          "model_module": "@jupyter-widgets/controls",
          "model_name": "PasswordModel",
          "model_module_version": "1.5.0",
          "state": {
            "_dom_classes": [],
            "_model_module": "@jupyter-widgets/controls",
            "_model_module_version": "1.5.0",
            "_model_name": "PasswordModel",
            "_view_count": null,
            "_view_module": "@jupyter-widgets/controls",
            "_view_module_version": "1.5.0",
            "_view_name": "PasswordView",
            "continuous_update": true,
            "description": "Token:",
            "description_tooltip": null,
            "disabled": false,
            "layout": "IPY_MODEL_aba08c12b4234aba97d79c52ba96ea8a",
            "placeholder": "​",
            "style": "IPY_MODEL_26ec7fe8d4f043e4b86dc3be57d031d9",
            "value": ""
          }
        },
        "32bbac8387b94c538777c32a12fa4d8b": {
          "model_module": "@jupyter-widgets/controls",
          "model_name": "CheckboxModel",
          "model_module_version": "1.5.0",
          "state": {
            "_dom_classes": [],
            "_model_module": "@jupyter-widgets/controls",
            "_model_module_version": "1.5.0",
            "_model_name": "CheckboxModel",
            "_view_count": null,
            "_view_module": "@jupyter-widgets/controls",
            "_view_module_version": "1.5.0",
            "_view_name": "CheckboxView",
            "description": "Add token as git credential?",
            "description_tooltip": null,
            "disabled": false,
            "indent": true,
            "layout": "IPY_MODEL_3cc9939add9a4b5ca30a46aef722bbd5",
            "style": "IPY_MODEL_c3ca7f827aa549c99568275f9a80ca1b",
            "value": false
          }
        },
        "7e7d73707e1348dfa165aac49e96c8e5": {
          "model_module": "@jupyter-widgets/controls",
          "model_name": "ButtonModel",
          "model_module_version": "1.5.0",
          "state": {
            "_dom_classes": [],
            "_model_module": "@jupyter-widgets/controls",
            "_model_module_version": "1.5.0",
            "_model_name": "ButtonModel",
            "_view_count": null,
            "_view_module": "@jupyter-widgets/controls",
            "_view_module_version": "1.5.0",
            "_view_name": "ButtonView",
            "button_style": "",
            "description": "Login",
            "disabled": false,
            "icon": "",
            "layout": "IPY_MODEL_3d61b8b07a62412a9234dd67fe77cbbb",
            "style": "IPY_MODEL_fc1e2169f93d49f98e6ed00c91e037fd",
            "tooltip": ""
          }
        },
        "81af2467c26746908b535123f0c22521": {
          "model_module": "@jupyter-widgets/controls",
          "model_name": "HTMLModel",
          "model_module_version": "1.5.0",
          "state": {
            "_dom_classes": [],
            "_model_module": "@jupyter-widgets/controls",
            "_model_module_version": "1.5.0",
            "_model_name": "HTMLModel",
            "_view_count": null,
            "_view_module": "@jupyter-widgets/controls",
            "_view_module_version": "1.5.0",
            "_view_name": "HTMLView",
            "description": "",
            "description_tooltip": null,
            "layout": "IPY_MODEL_5878e9fbc345403eb65d180d6c448221",
            "placeholder": "​",
            "style": "IPY_MODEL_b33cacab46814ce4aa8658ab6fc52f8b",
            "value": "\n<b>Pro Tip:</b> If you don't already have one, you can create a dedicated\n'notebooks' token with 'write' access, that you can then easily reuse for all\nnotebooks. </center>"
          }
        },
        "83704786c2ee4a83900fe66f73e053fe": {
          "model_module": "@jupyter-widgets/base",
          "model_name": "LayoutModel",
          "model_module_version": "1.2.0",
          "state": {
            "_model_module": "@jupyter-widgets/base",
            "_model_module_version": "1.2.0",
            "_model_name": "LayoutModel",
            "_view_count": null,
            "_view_module": "@jupyter-widgets/base",
            "_view_module_version": "1.2.0",
            "_view_name": "LayoutView",
            "align_content": null,
            "align_items": "center",
            "align_self": null,
            "border": null,
            "bottom": null,
            "display": "flex",
            "flex": null,
            "flex_flow": "column",
            "grid_area": null,
            "grid_auto_columns": null,
            "grid_auto_flow": null,
            "grid_auto_rows": null,
            "grid_column": null,
            "grid_gap": null,
            "grid_row": null,
            "grid_template_areas": null,
            "grid_template_columns": null,
            "grid_template_rows": null,
            "height": null,
            "justify_content": null,
            "justify_items": null,
            "left": null,
            "margin": null,
            "max_height": null,
            "max_width": null,
            "min_height": null,
            "min_width": null,
            "object_fit": null,
            "object_position": null,
            "order": null,
            "overflow": null,
            "overflow_x": null,
            "overflow_y": null,
            "padding": null,
            "right": null,
            "top": null,
            "visibility": null,
            "width": "50%"
          }
        },
        "f280b12f37d54f0ea8165c135fee301c": {
          "model_module": "@jupyter-widgets/base",
          "model_name": "LayoutModel",
          "model_module_version": "1.2.0",
          "state": {
            "_model_module": "@jupyter-widgets/base",
            "_model_module_version": "1.2.0",
            "_model_name": "LayoutModel",
            "_view_count": null,
            "_view_module": "@jupyter-widgets/base",
            "_view_module_version": "1.2.0",
            "_view_name": "LayoutView",
            "align_content": null,
            "align_items": null,
            "align_self": null,
            "border": null,
            "bottom": null,
            "display": null,
            "flex": null,
            "flex_flow": null,
            "grid_area": null,
            "grid_auto_columns": null,
            "grid_auto_flow": null,
            "grid_auto_rows": null,
            "grid_column": null,
            "grid_gap": null,
            "grid_row": null,
            "grid_template_areas": null,
            "grid_template_columns": null,
            "grid_template_rows": null,
            "height": null,
            "justify_content": null,
            "justify_items": null,
            "left": null,
            "margin": null,
            "max_height": null,
            "max_width": null,
            "min_height": null,
            "min_width": null,
            "object_fit": null,
            "object_position": null,
            "order": null,
            "overflow": null,
            "overflow_x": null,
            "overflow_y": null,
            "padding": null,
            "right": null,
            "top": null,
            "visibility": null,
            "width": null
          }
        },
        "50d04ee580c046b191a4eaebf255216b": {
          "model_module": "@jupyter-widgets/controls",
          "model_name": "DescriptionStyleModel",
          "model_module_version": "1.5.0",
          "state": {
            "_model_module": "@jupyter-widgets/controls",
            "_model_module_version": "1.5.0",
            "_model_name": "DescriptionStyleModel",
            "_view_count": null,
            "_view_module": "@jupyter-widgets/base",
            "_view_module_version": "1.2.0",
            "_view_name": "StyleView",
            "description_width": ""
          }
        },
        "aba08c12b4234aba97d79c52ba96ea8a": {
          "model_module": "@jupyter-widgets/base",
          "model_name": "LayoutModel",
          "model_module_version": "1.2.0",
          "state": {
            "_model_module": "@jupyter-widgets/base",
            "_model_module_version": "1.2.0",
            "_model_name": "LayoutModel",
            "_view_count": null,
            "_view_module": "@jupyter-widgets/base",
            "_view_module_version": "1.2.0",
            "_view_name": "LayoutView",
            "align_content": null,
            "align_items": null,
            "align_self": null,
            "border": null,
            "bottom": null,
            "display": null,
            "flex": null,
            "flex_flow": null,
            "grid_area": null,
            "grid_auto_columns": null,
            "grid_auto_flow": null,
            "grid_auto_rows": null,
            "grid_column": null,
            "grid_gap": null,
            "grid_row": null,
            "grid_template_areas": null,
            "grid_template_columns": null,
            "grid_template_rows": null,
            "height": null,
            "justify_content": null,
            "justify_items": null,
            "left": null,
            "margin": null,
            "max_height": null,
            "max_width": null,
            "min_height": null,
            "min_width": null,
            "object_fit": null,
            "object_position": null,
            "order": null,
            "overflow": null,
            "overflow_x": null,
            "overflow_y": null,
            "padding": null,
            "right": null,
            "top": null,
            "visibility": null,
            "width": null
          }
        },
        "26ec7fe8d4f043e4b86dc3be57d031d9": {
          "model_module": "@jupyter-widgets/controls",
          "model_name": "DescriptionStyleModel",
          "model_module_version": "1.5.0",
          "state": {
            "_model_module": "@jupyter-widgets/controls",
            "_model_module_version": "1.5.0",
            "_model_name": "DescriptionStyleModel",
            "_view_count": null,
            "_view_module": "@jupyter-widgets/base",
            "_view_module_version": "1.2.0",
            "_view_name": "StyleView",
            "description_width": ""
          }
        },
        "3cc9939add9a4b5ca30a46aef722bbd5": {
          "model_module": "@jupyter-widgets/base",
          "model_name": "LayoutModel",
          "model_module_version": "1.2.0",
          "state": {
            "_model_module": "@jupyter-widgets/base",
            "_model_module_version": "1.2.0",
            "_model_name": "LayoutModel",
            "_view_count": null,
            "_view_module": "@jupyter-widgets/base",
            "_view_module_version": "1.2.0",
            "_view_name": "LayoutView",
            "align_content": null,
            "align_items": null,
            "align_self": null,
            "border": null,
            "bottom": null,
            "display": null,
            "flex": null,
            "flex_flow": null,
            "grid_area": null,
            "grid_auto_columns": null,
            "grid_auto_flow": null,
            "grid_auto_rows": null,
            "grid_column": null,
            "grid_gap": null,
            "grid_row": null,
            "grid_template_areas": null,
            "grid_template_columns": null,
            "grid_template_rows": null,
            "height": null,
            "justify_content": null,
            "justify_items": null,
            "left": null,
            "margin": null,
            "max_height": null,
            "max_width": null,
            "min_height": null,
            "min_width": null,
            "object_fit": null,
            "object_position": null,
            "order": null,
            "overflow": null,
            "overflow_x": null,
            "overflow_y": null,
            "padding": null,
            "right": null,
            "top": null,
            "visibility": null,
            "width": null
          }
        },
        "c3ca7f827aa549c99568275f9a80ca1b": {
          "model_module": "@jupyter-widgets/controls",
          "model_name": "DescriptionStyleModel",
          "model_module_version": "1.5.0",
          "state": {
            "_model_module": "@jupyter-widgets/controls",
            "_model_module_version": "1.5.0",
            "_model_name": "DescriptionStyleModel",
            "_view_count": null,
            "_view_module": "@jupyter-widgets/base",
            "_view_module_version": "1.2.0",
            "_view_name": "StyleView",
            "description_width": ""
          }
        },
        "3d61b8b07a62412a9234dd67fe77cbbb": {
          "model_module": "@jupyter-widgets/base",
          "model_name": "LayoutModel",
          "model_module_version": "1.2.0",
          "state": {
            "_model_module": "@jupyter-widgets/base",
            "_model_module_version": "1.2.0",
            "_model_name": "LayoutModel",
            "_view_count": null,
            "_view_module": "@jupyter-widgets/base",
            "_view_module_version": "1.2.0",
            "_view_name": "LayoutView",
            "align_content": null,
            "align_items": null,
            "align_self": null,
            "border": null,
            "bottom": null,
            "display": null,
            "flex": null,
            "flex_flow": null,
            "grid_area": null,
            "grid_auto_columns": null,
            "grid_auto_flow": null,
            "grid_auto_rows": null,
            "grid_column": null,
            "grid_gap": null,
            "grid_row": null,
            "grid_template_areas": null,
            "grid_template_columns": null,
            "grid_template_rows": null,
            "height": null,
            "justify_content": null,
            "justify_items": null,
            "left": null,
            "margin": null,
            "max_height": null,
            "max_width": null,
            "min_height": null,
            "min_width": null,
            "object_fit": null,
            "object_position": null,
            "order": null,
            "overflow": null,
            "overflow_x": null,
            "overflow_y": null,
            "padding": null,
            "right": null,
            "top": null,
            "visibility": null,
            "width": null
          }
        },
        "fc1e2169f93d49f98e6ed00c91e037fd": {
          "model_module": "@jupyter-widgets/controls",
          "model_name": "ButtonStyleModel",
          "model_module_version": "1.5.0",
          "state": {
            "_model_module": "@jupyter-widgets/controls",
            "_model_module_version": "1.5.0",
            "_model_name": "ButtonStyleModel",
            "_view_count": null,
            "_view_module": "@jupyter-widgets/base",
            "_view_module_version": "1.2.0",
            "_view_name": "StyleView",
            "button_color": null,
            "font_weight": ""
          }
        },
        "5878e9fbc345403eb65d180d6c448221": {
          "model_module": "@jupyter-widgets/base",
          "model_name": "LayoutModel",
          "model_module_version": "1.2.0",
          "state": {
            "_model_module": "@jupyter-widgets/base",
            "_model_module_version": "1.2.0",
            "_model_name": "LayoutModel",
            "_view_count": null,
            "_view_module": "@jupyter-widgets/base",
            "_view_module_version": "1.2.0",
            "_view_name": "LayoutView",
            "align_content": null,
            "align_items": null,
            "align_self": null,
            "border": null,
            "bottom": null,
            "display": null,
            "flex": null,
            "flex_flow": null,
            "grid_area": null,
            "grid_auto_columns": null,
            "grid_auto_flow": null,
            "grid_auto_rows": null,
            "grid_column": null,
            "grid_gap": null,
            "grid_row": null,
            "grid_template_areas": null,
            "grid_template_columns": null,
            "grid_template_rows": null,
            "height": null,
            "justify_content": null,
            "justify_items": null,
            "left": null,
            "margin": null,
            "max_height": null,
            "max_width": null,
            "min_height": null,
            "min_width": null,
            "object_fit": null,
            "object_position": null,
            "order": null,
            "overflow": null,
            "overflow_x": null,
            "overflow_y": null,
            "padding": null,
            "right": null,
            "top": null,
            "visibility": null,
            "width": null
          }
        },
        "b33cacab46814ce4aa8658ab6fc52f8b": {
          "model_module": "@jupyter-widgets/controls",
          "model_name": "DescriptionStyleModel",
          "model_module_version": "1.5.0",
          "state": {
            "_model_module": "@jupyter-widgets/controls",
            "_model_module_version": "1.5.0",
            "_model_name": "DescriptionStyleModel",
            "_view_count": null,
            "_view_module": "@jupyter-widgets/base",
            "_view_module_version": "1.2.0",
            "_view_name": "StyleView",
            "description_width": ""
          }
        },
        "e43dc1d9bf6044289d0ea86eb7a52acd": {
          "model_module": "@jupyter-widgets/controls",
          "model_name": "LabelModel",
          "model_module_version": "1.5.0",
          "state": {
            "_dom_classes": [],
            "_model_module": "@jupyter-widgets/controls",
            "_model_module_version": "1.5.0",
            "_model_name": "LabelModel",
            "_view_count": null,
            "_view_module": "@jupyter-widgets/controls",
            "_view_module_version": "1.5.0",
            "_view_name": "LabelView",
            "description": "",
            "description_tooltip": null,
            "layout": "IPY_MODEL_4b8d94ef6a2c44379fb3e84e241042a7",
            "placeholder": "​",
            "style": "IPY_MODEL_53be879633f34e339a9ea9d17d996b1d",
            "value": "Connecting..."
          }
        },
        "4b8d94ef6a2c44379fb3e84e241042a7": {
          "model_module": "@jupyter-widgets/base",
          "model_name": "LayoutModel",
          "model_module_version": "1.2.0",
          "state": {
            "_model_module": "@jupyter-widgets/base",
            "_model_module_version": "1.2.0",
            "_model_name": "LayoutModel",
            "_view_count": null,
            "_view_module": "@jupyter-widgets/base",
            "_view_module_version": "1.2.0",
            "_view_name": "LayoutView",
            "align_content": null,
            "align_items": null,
            "align_self": null,
            "border": null,
            "bottom": null,
            "display": null,
            "flex": null,
            "flex_flow": null,
            "grid_area": null,
            "grid_auto_columns": null,
            "grid_auto_flow": null,
            "grid_auto_rows": null,
            "grid_column": null,
            "grid_gap": null,
            "grid_row": null,
            "grid_template_areas": null,
            "grid_template_columns": null,
            "grid_template_rows": null,
            "height": null,
            "justify_content": null,
            "justify_items": null,
            "left": null,
            "margin": null,
            "max_height": null,
            "max_width": null,
            "min_height": null,
            "min_width": null,
            "object_fit": null,
            "object_position": null,
            "order": null,
            "overflow": null,
            "overflow_x": null,
            "overflow_y": null,
            "padding": null,
            "right": null,
            "top": null,
            "visibility": null,
            "width": null
          }
        },
        "53be879633f34e339a9ea9d17d996b1d": {
          "model_module": "@jupyter-widgets/controls",
          "model_name": "DescriptionStyleModel",
          "model_module_version": "1.5.0",
          "state": {
            "_model_module": "@jupyter-widgets/controls",
            "_model_module_version": "1.5.0",
            "_model_name": "DescriptionStyleModel",
            "_view_count": null,
            "_view_module": "@jupyter-widgets/base",
            "_view_module_version": "1.2.0",
            "_view_name": "StyleView",
            "description_width": ""
          }
        }
      }
    }
  },
  "nbformat": 4,
  "nbformat_minor": 5
}